{
 "cells": [
  {
   "cell_type": "markdown",
   "id": "6ee491bd",
   "metadata": {},
   "source": [
    "<p align=\"center\">\n",
    "  <img src=\"TEC.PNG\" alt=\"Logo del Tec\" width=\"500\">\n",
    "</p>"
   ]
  },
  {
   "cell_type": "markdown",
   "id": "1c3aff60",
   "metadata": {},
   "source": [
    "<div align=\"center\">\n",
    "\n",
    "<h3>Instituto Tecnológico de Estudios Superiores de Monterrey CCM</h3>\n",
    "\n",
    "<p><strong>Análisis de Ciencia de Datos</strong><br>\n",
    "Grupo 242</p>\n",
    "\n",
    "<p>Chiara Bombardieri Balanzá - A01659462<br>\n",
    "Gerardo Javier López García - A016600262</p>\n",
    "\n",
    "</div>"
   ]
  }
 ],
 "metadata": {
  "language_info": {
   "name": "python"
  }
 },
 "nbformat": 4,
 "nbformat_minor": 5
}
