{
 "cells": [
  {
   "cell_type": "markdown",
   "id": "6ee491bd",
   "metadata": {},
   "source": [
    "<p align=\"center\">\n",
    "  <img src=\"TEC.PNG\" alt=\"Logo del Tec\" width=\"500\">\n",
    "</p>"
   ]
  }
 ],
 "metadata": {
  "language_info": {
   "name": "python"
  }
 },
 "nbformat": 4,
 "nbformat_minor": 5
}
